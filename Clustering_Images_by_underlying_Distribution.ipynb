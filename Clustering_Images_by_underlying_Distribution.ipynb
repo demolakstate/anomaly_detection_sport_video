{
  "nbformat": 4,
  "nbformat_minor": 0,
  "metadata": {
    "colab": {
      "name": "Clustering-Images-by-underlying-Distribution.ipynb",
      "provenance": [],
      "machine_shape": "hm",
      "authorship_tag": "ABX9TyNN+qIRHO1bfVD2SOG5iBh6",
      "include_colab_link": true
    },
    "kernelspec": {
      "name": "python3",
      "display_name": "Python 3"
    },
    "accelerator": "GPU"
  },
  "cells": [
    {
      "cell_type": "markdown",
      "metadata": {
        "id": "view-in-github",
        "colab_type": "text"
      },
      "source": [
        "<a href=\"https://colab.research.google.com/github/demolakstate/anomaly_detection_sport_video/blob/main/Clustering_Images_by_underlying_Distribution.ipynb\" target=\"_parent\"><img src=\"https://colab.research.google.com/assets/colab-badge.svg\" alt=\"Open In Colab\"/></a>"
      ]
    },
    {
      "cell_type": "code",
      "metadata": {
        "id": "4aM3cu55WtK8"
      },
      "source": [
        ""
      ],
      "execution_count": null,
      "outputs": []
    },
    {
      "cell_type": "code",
      "metadata": {
        "colab": {
          "base_uri": "https://localhost:8080/"
        },
        "id": "PuAjXTLzWwb_",
        "outputId": "a64b5baf-b89a-410a-cd97-728dae7d7015"
      },
      "source": [
        "from google.colab import drive\n",
        "\n",
        "drive.mount('/content/gdrive')"
      ],
      "execution_count": 1,
      "outputs": [
        {
          "output_type": "stream",
          "text": [
            "Mounted at /content/gdrive\n"
          ],
          "name": "stdout"
        }
      ]
    },
    {
      "cell_type": "code",
      "metadata": {
        "colab": {
          "base_uri": "https://localhost:8080/"
        },
        "id": "X8Jh81elXUeL",
        "outputId": "f5b9fd9c-7c7e-4945-eeed-3863816024fa"
      },
      "source": [
        "cd /content/gdrive/MyDrive/Anomaly_Video_classification"
      ],
      "execution_count": 2,
      "outputs": [
        {
          "output_type": "stream",
          "text": [
            "/content/gdrive/MyDrive/Anomaly_Video_classification\n"
          ],
          "name": "stdout"
        }
      ]
    },
    {
      "cell_type": "code",
      "metadata": {
        "colab": {
          "base_uri": "https://localhost:8080/"
        },
        "id": "2oOdexSR0-jF",
        "outputId": "31b551e3-3653-4ec6-adee-30b8e6ddd322"
      },
      "source": [
        "!git clone https://github.com/EricElmoznino/distribution_clustering"
      ],
      "execution_count": 3,
      "outputs": [
        {
          "output_type": "stream",
          "text": [
            "Cloning into 'distribution_clustering'...\n",
            "remote: Enumerating objects: 152, done.\u001b[K\n",
            "remote: Total 152 (delta 0), reused 0 (delta 0), pack-reused 152\u001b[K\n",
            "Receiving objects: 100% (152/152), 3.24 MiB | 7.08 MiB/s, done.\n",
            "Resolving deltas: 100% (16/16), done.\n"
          ],
          "name": "stdout"
        }
      ]
    },
    {
      "cell_type": "code",
      "metadata": {
        "id": "3S7u3PB0X8qB",
        "colab": {
          "base_uri": "https://localhost:8080/"
        },
        "outputId": "e8b3344b-dfb2-4c2b-b899-08ad8021690f"
      },
      "source": [
        "cd distribution_clustering/"
      ],
      "execution_count": 5,
      "outputs": [
        {
          "output_type": "stream",
          "text": [
            "/content/gdrive/My Drive/Anomaly_Video_classification/distribution_clustering\n"
          ],
          "name": "stdout"
        }
      ]
    },
    {
      "cell_type": "code",
      "metadata": {
        "colab": {
          "base_uri": "https://localhost:8080/"
        },
        "id": "3E3l8kNQ1ZWp",
        "outputId": "6a08a504-8795-4e2e-c52a-ea2a08d2d5e8"
      },
      "source": [
        "ls"
      ],
      "execution_count": 8,
      "outputs": [
        {
          "output_type": "stream",
          "text": [
            "cluster_dataset.py  distribution_clustering.py  save_dataset_features.py\n",
            "\u001b[0m\u001b[01;34mdata\u001b[0m/               \u001b[01;34mfeature_extractors\u001b[0m/         \u001b[01;34munit_tests\u001b[0m/\n",
            "\u001b[01;34mdatasets\u001b[0m/           README.md                   unit_tests_main.py\n"
          ],
          "name": "stdout"
        }
      ]
    },
    {
      "cell_type": "code",
      "metadata": {
        "id": "ccREPAERX8uZ"
      },
      "source": [
        "#!pip3 install -r requirements.txt"
      ],
      "execution_count": 7,
      "outputs": []
    },
    {
      "cell_type": "markdown",
      "metadata": {
        "id": "hj-Z7w0QJRkA"
      },
      "source": [
        "## Extract deep features ##"
      ]
    },
    {
      "cell_type": "code",
      "metadata": {
        "colab": {
          "base_uri": "https://localhost:8080/"
        },
        "id": "nto4ZXemJWVZ",
        "outputId": "138fbf85-6156-437c-b3ac-4cf1131facf8"
      },
      "source": [
        "!python save_dataset_features.py --data_dir data/"
      ],
      "execution_count": 9,
      "outputs": [
        {
          "output_type": "stream",
          "text": [
            "Downloading: \"https://download.pytorch.org/models/resnet152-b121ed2d.pth\" to /root/.cache/torch/hub/checkpoints/resnet152-b121ed2d.pth\n",
            "100% 230M/230M [00:03<00:00, 64.3MB/s]\n",
            "100% 58/58 [00:27<00:00,  2.14it/s]\n"
          ],
          "name": "stdout"
        }
      ]
    },
    {
      "cell_type": "code",
      "metadata": {
        "id": "IQaJ6s0yJWZE"
      },
      "source": [
        ""
      ],
      "execution_count": null,
      "outputs": []
    },
    {
      "cell_type": "markdown",
      "metadata": {
        "id": "llPBkKYjKWAu"
      },
      "source": [
        "## Cluster data ##"
      ]
    },
    {
      "cell_type": "code",
      "metadata": {
        "colab": {
          "base_uri": "https://localhost:8080/"
        },
        "id": "hN28sV0TJWgO",
        "outputId": "707df729-1c20-45be-b957-0249696ddc16"
      },
      "source": [
        "!python cluster_dataset.py --data_dir data "
      ],
      "execution_count": 10,
      "outputs": [
        {
          "output_type": "stream",
          "text": [
            "Complete\n",
            "Found 3 clusters\n",
            "Clustered 58 samples out of 58\n",
            "Total clustering time: 0 hours, 0 minutes\n"
          ],
          "name": "stdout"
        }
      ]
    },
    {
      "cell_type": "code",
      "metadata": {
        "id": "aq8mrElAKo_L"
      },
      "source": [
        ""
      ],
      "execution_count": null,
      "outputs": []
    },
    {
      "cell_type": "code",
      "metadata": {
        "id": "zAe3thlpKpEO"
      },
      "source": [
        ""
      ],
      "execution_count": null,
      "outputs": []
    }
  ]
}