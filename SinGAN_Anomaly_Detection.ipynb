{
  "nbformat": 4,
  "nbformat_minor": 0,
  "metadata": {
    "colab": {
      "name": "SinGAN-Anomaly-Detection.ipynb",
      "provenance": [],
      "machine_shape": "hm",
      "authorship_tag": "ABX9TyPmKeC8lPb/4sPIYW9zU5tt",
      "include_colab_link": true
    },
    "kernelspec": {
      "name": "python3",
      "display_name": "Python 3"
    },
    "accelerator": "GPU"
  },
  "cells": [
    {
      "cell_type": "markdown",
      "metadata": {
        "id": "view-in-github",
        "colab_type": "text"
      },
      "source": [
        "<a href=\"https://colab.research.google.com/github/demolakstate/anomaly_detection_sport_video/blob/main/SinGAN_Anomaly_Detection.ipynb\" target=\"_parent\"><img src=\"https://colab.research.google.com/assets/colab-badge.svg\" alt=\"Open In Colab\"/></a>"
      ]
    },
    {
      "cell_type": "code",
      "metadata": {
        "id": "4aM3cu55WtK8"
      },
      "source": [
        ""
      ],
      "execution_count": null,
      "outputs": []
    },
    {
      "cell_type": "code",
      "metadata": {
        "colab": {
          "base_uri": "https://localhost:8080/"
        },
        "id": "PuAjXTLzWwb_",
        "outputId": "73ce8269-9141-44b8-a0af-de8e5df27f1b"
      },
      "source": [
        "from google.colab import drive\n",
        "\n",
        "drive.mount('/content/gdrive')"
      ],
      "execution_count": 1,
      "outputs": [
        {
          "output_type": "stream",
          "text": [
            "Mounted at /content/gdrive\n"
          ],
          "name": "stdout"
        }
      ]
    },
    {
      "cell_type": "code",
      "metadata": {
        "id": "e24DItOZWwf8"
      },
      "source": [
        ""
      ],
      "execution_count": null,
      "outputs": []
    },
    {
      "cell_type": "code",
      "metadata": {
        "colab": {
          "base_uri": "https://localhost:8080/"
        },
        "id": "X8Jh81elXUeL",
        "outputId": "485934a4-a5be-4a46-90df-c1be38db1f27"
      },
      "source": [
        "cd /content/gdrive/MyDrive/Anomaly_Video_classification"
      ],
      "execution_count": 2,
      "outputs": [
        {
          "output_type": "stream",
          "text": [
            "/content/gdrive/MyDrive/Anomaly_Video_classification\n"
          ],
          "name": "stdout"
        }
      ]
    },
    {
      "cell_type": "code",
      "metadata": {
        "colab": {
          "base_uri": "https://localhost:8080/"
        },
        "id": "2oOdexSR0-jF",
        "outputId": "ad3400fa-a3a1-464a-e503-f78d0f5cc13a"
      },
      "source": [
        "!git clone https://github.com/tamarott/SinGAN.git"
      ],
      "execution_count": 4,
      "outputs": [
        {
          "output_type": "stream",
          "text": [
            "Cloning into 'SinGAN'...\n",
            "remote: Enumerating objects: 12, done.\u001b[K\n",
            "remote: Counting objects: 100% (12/12), done.\u001b[K\n",
            "remote: Compressing objects: 100% (8/8), done.\u001b[K\n",
            "remote: Total 802 (delta 6), reused 10 (delta 4), pack-reused 790\u001b[K\n",
            "Receiving objects: 100% (802/802), 94.89 MiB | 24.81 MiB/s, done.\n",
            "Resolving deltas: 100% (310/310), done.\n",
            "Checking out files: 100% (58/58), done.\n"
          ],
          "name": "stdout"
        }
      ]
    },
    {
      "cell_type": "code",
      "metadata": {
        "id": "3S7u3PB0X8qB",
        "colab": {
          "base_uri": "https://localhost:8080/"
        },
        "outputId": "1b9b8d7d-559a-4f32-c4f5-888b7938aa32"
      },
      "source": [
        "cd SinGAN/"
      ],
      "execution_count": 6,
      "outputs": [
        {
          "output_type": "stream",
          "text": [
            "/content/gdrive/My Drive/Anomaly_Video_classification/SinGAN\n"
          ],
          "name": "stdout"
        }
      ]
    },
    {
      "cell_type": "code",
      "metadata": {
        "colab": {
          "base_uri": "https://localhost:8080/"
        },
        "id": "3E3l8kNQ1ZWp",
        "outputId": "508ded80-79fb-4462-ad85-c803735a8c10"
      },
      "source": [
        "ls"
      ],
      "execution_count": 7,
      "outputs": [
        {
          "output_type": "stream",
          "text": [
            "animation.py  editing.py        LICENSE.txt        README.md         \u001b[0m\u001b[01;34mSinGAN\u001b[0m/\n",
            "config.py     harmonization.py  main_train.py      requirements.txt  SR.py\n",
            "config.pyc    \u001b[01;34mimgs\u001b[0m/             paint2image.py     \u001b[01;34mSIFID\u001b[0m/\n",
            "\u001b[01;34mDownloads\u001b[0m/    \u001b[01;34mInput\u001b[0m/            random_samples.py  SIFID.npy\n"
          ],
          "name": "stdout"
        }
      ]
    },
    {
      "cell_type": "code",
      "metadata": {
        "id": "ccREPAERX8uZ"
      },
      "source": [
        "!pip install -r requirements.txt"
      ],
      "execution_count": null,
      "outputs": []
    },
    {
      "cell_type": "markdown",
      "metadata": {
        "id": "NxOSrS8j37qu"
      },
      "source": [
        "## Train the SinGAN ##"
      ]
    },
    {
      "cell_type": "code",
      "metadata": {
        "id": "o0KncdAy6_Q0"
      },
      "source": [
        "# error - to train with cuda, install\n",
        "!pip install torch==1.4.0 torchvision==0.5.0."
      ],
      "execution_count": null,
      "outputs": []
    },
    {
      "cell_type": "code",
      "metadata": {
        "id": "IjphTvgGYJzz"
      },
      "source": [
        "!python main_train.py --input_name 0015.jpg"
      ],
      "execution_count": null,
      "outputs": []
    },
    {
      "cell_type": "code",
      "metadata": {
        "id": "Mv9NwHGxJgvw"
      },
      "source": [
        ""
      ],
      "execution_count": null,
      "outputs": []
    },
    {
      "cell_type": "code",
      "metadata": {
        "id": "nvu-DFcBJg17"
      },
      "source": [
        ""
      ],
      "execution_count": null,
      "outputs": []
    },
    {
      "cell_type": "markdown",
      "metadata": {
        "id": "Gn07Yt8aV6mM"
      },
      "source": [
        "## Generate fake images ##"
      ]
    },
    {
      "cell_type": "code",
      "metadata": {
        "colab": {
          "base_uri": "https://localhost:8080/"
        },
        "id": "U1vYhtkV1iGk",
        "outputId": "cb2152ce-8641-4b98-fd72-fabc844ef70d"
      },
      "source": [
        "!python random_samples.py --input_name 0015.jpg --mode random_samples --gen_start_scale 0\n"
      ],
      "execution_count": 50,
      "outputs": [
        {
          "output_type": "stream",
          "text": [
            "Random Seed:  2627\n",
            "random samples for image 0015.jpg, start scale=0, already exist\n"
          ],
          "name": "stdout"
        }
      ]
    },
    {
      "cell_type": "code",
      "metadata": {
        "id": "7CY40P5_Ww4n"
      },
      "source": [
        ""
      ],
      "execution_count": null,
      "outputs": []
    }
  ]
}