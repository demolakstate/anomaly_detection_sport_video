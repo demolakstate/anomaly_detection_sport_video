{
  "nbformat": 4,
  "nbformat_minor": 0,
  "metadata": {
    "colab": {
      "name": "Pytorch-GAN-Anomaly-Detection.ipynb",
      "provenance": [],
      "machine_shape": "hm",
      "authorship_tag": "ABX9TyOb/mdn+vrLNau+kCersPeP",
      "include_colab_link": true
    },
    "kernelspec": {
      "name": "python3",
      "display_name": "Python 3"
    },
    "accelerator": "GPU"
  },
  "cells": [
    {
      "cell_type": "markdown",
      "metadata": {
        "id": "view-in-github",
        "colab_type": "text"
      },
      "source": [
        "<a href=\"https://colab.research.google.com/github/demolakstate/anomaly_detection_sport_video/blob/main/Pytorch_GAN_Anomaly_Detection.ipynb\" target=\"_parent\"><img src=\"https://colab.research.google.com/assets/colab-badge.svg\" alt=\"Open In Colab\"/></a>"
      ]
    },
    {
      "cell_type": "code",
      "metadata": {
        "id": "4aM3cu55WtK8"
      },
      "source": [
        ""
      ],
      "execution_count": null,
      "outputs": []
    },
    {
      "cell_type": "code",
      "metadata": {
        "colab": {
          "base_uri": "https://localhost:8080/"
        },
        "id": "PuAjXTLzWwb_",
        "outputId": "8a8ec35f-78b7-4c84-bfce-da8fba2ddcd9"
      },
      "source": [
        "from google.colab import drive\n",
        "\n",
        "drive.mount('/content/gdrive')"
      ],
      "execution_count": 1,
      "outputs": [
        {
          "output_type": "stream",
          "text": [
            "Mounted at /content/gdrive\n"
          ],
          "name": "stdout"
        }
      ]
    },
    {
      "cell_type": "code",
      "metadata": {
        "id": "e24DItOZWwf8"
      },
      "source": [
        ""
      ],
      "execution_count": null,
      "outputs": []
    },
    {
      "cell_type": "code",
      "metadata": {
        "colab": {
          "base_uri": "https://localhost:8080/"
        },
        "id": "X8Jh81elXUeL",
        "outputId": "9881d089-97ad-429a-fdfb-214cfc9b9280"
      },
      "source": [
        "cd /content/gdrive/MyDrive/Anomaly_Video_classification"
      ],
      "execution_count": 2,
      "outputs": [
        {
          "output_type": "stream",
          "text": [
            "/content/gdrive/MyDrive/Anomaly_Video_classification\n"
          ],
          "name": "stdout"
        }
      ]
    },
    {
      "cell_type": "code",
      "metadata": {
        "id": "yHEYLxEsXUj0"
      },
      "source": [
        "#!git clone https://github.com/facebookresearch/pytorch_GAN_zoo.git"
      ],
      "execution_count": 5,
      "outputs": []
    },
    {
      "cell_type": "code",
      "metadata": {
        "colab": {
          "base_uri": "https://localhost:8080/"
        },
        "id": "3fTQGKwvWwj2",
        "outputId": "e1eb2780-52c2-42a4-abf2-2914ff480b0d"
      },
      "source": [
        "cd /content/gdrive/My Drive/Anomaly_Video_classification/pytorch_GAN_zoo"
      ],
      "execution_count": 2,
      "outputs": [
        {
          "output_type": "stream",
          "text": [
            "/content/gdrive/My Drive/Anomaly_Video_classification/pytorch_GAN_zoo\n"
          ],
          "name": "stdout"
        }
      ]
    },
    {
      "cell_type": "code",
      "metadata": {
        "colab": {
          "base_uri": "https://localhost:8080/"
        },
        "id": "yqX91_9WWwoH",
        "outputId": "36901777-5161-4623-8429-ef4e2c441c9a"
      },
      "source": [
        "ls"
      ],
      "execution_count": 3,
      "outputs": [
        {
          "output_type": "stream",
          "text": [
            "CODE_OF_CONDUCT.md          illustartionCelebaHQ.jpg  README.md\n",
            "config_celeba_cropped.json  illustration.png          requirements.txt\n",
            "config_celebaHQ.json        \u001b[0m\u001b[01;34minput_images\u001b[0m/             save_feature_extractor.py\n",
            "CONTRIBUTING.md             LICENSE                   train.py\n",
            "datasets.py                 \u001b[01;34mmodels\u001b[0m/                   \u001b[01;34mvisualization\u001b[0m/\n",
            "eval.py                     \u001b[01;34moutput\u001b[0m/\n",
            "hubconf.py                  \u001b[01;34moutput_networks\u001b[0m/\n"
          ],
          "name": "stdout"
        }
      ]
    },
    {
      "cell_type": "code",
      "metadata": {
        "id": "3S7u3PB0X8qB"
      },
      "source": [
        ""
      ],
      "execution_count": null,
      "outputs": []
    },
    {
      "cell_type": "code",
      "metadata": {
        "colab": {
          "base_uri": "https://localhost:8080/"
        },
        "id": "ccREPAERX8uZ",
        "outputId": "5de321d7-3e8c-44f5-b9a4-35199e2f7a74"
      },
      "source": [
        "!pip install -r requirements.txt"
      ],
      "execution_count": 3,
      "outputs": [
        {
          "output_type": "stream",
          "text": [
            "Requirement already satisfied: numpy in /usr/local/lib/python3.6/dist-packages (from -r requirements.txt (line 1)) (1.19.5)\n",
            "Requirement already satisfied: scipy in /usr/local/lib/python3.6/dist-packages (from -r requirements.txt (line 2)) (1.4.1)\n",
            "Collecting visdom\n",
            "\u001b[?25l  Downloading https://files.pythonhosted.org/packages/c9/75/e078f5a2e1df7e0d3044749089fc2823e62d029cc027ed8ae5d71fafcbdc/visdom-0.1.8.9.tar.gz (676kB)\n",
            "\u001b[K     |████████████████████████████████| 686kB 8.5MB/s \n",
            "\u001b[?25hRequirement already satisfied: h5py in /usr/local/lib/python3.6/dist-packages (from -r requirements.txt (line 4)) (2.10.0)\n",
            "Collecting nevergrad\n",
            "\u001b[?25l  Downloading https://files.pythonhosted.org/packages/0b/84/61ffd3bb39111bd2efd18ccd958afd851044ce62a1d799ead675758edc63/nevergrad-0.4.3-py3-none-any.whl (358kB)\n",
            "\u001b[K     |████████████████████████████████| 368kB 18.0MB/s \n",
            "\u001b[?25hRequirement already satisfied: requests in /usr/local/lib/python3.6/dist-packages (from visdom->-r requirements.txt (line 3)) (2.23.0)\n",
            "Requirement already satisfied: tornado in /usr/local/lib/python3.6/dist-packages (from visdom->-r requirements.txt (line 3)) (5.1.1)\n",
            "Requirement already satisfied: pyzmq in /usr/local/lib/python3.6/dist-packages (from visdom->-r requirements.txt (line 3)) (22.0.2)\n",
            "Requirement already satisfied: six in /usr/local/lib/python3.6/dist-packages (from visdom->-r requirements.txt (line 3)) (1.15.0)\n",
            "Collecting jsonpatch\n",
            "  Downloading https://files.pythonhosted.org/packages/40/d5/6640ac6d1bdd20f44bb6b3c6e6f2f1c525bf0b7595f99c4f38917f995d6b/jsonpatch-1.28-py2.py3-none-any.whl\n",
            "Collecting torchfile\n",
            "  Downloading https://files.pythonhosted.org/packages/91/af/5b305f86f2d218091af657ddb53f984ecbd9518ca9fe8ef4103a007252c9/torchfile-0.1.0.tar.gz\n",
            "Collecting websocket-client\n",
            "\u001b[?25l  Downloading https://files.pythonhosted.org/packages/4c/5f/f61b420143ed1c8dc69f9eaec5ff1ac36109d52c80de49d66e0c36c3dfdf/websocket_client-0.57.0-py2.py3-none-any.whl (200kB)\n",
            "\u001b[K     |████████████████████████████████| 204kB 26.4MB/s \n",
            "\u001b[?25hRequirement already satisfied: pillow in /usr/local/lib/python3.6/dist-packages (from visdom->-r requirements.txt (line 3)) (7.0.0)\n",
            "Collecting bayesian-optimization>=1.2.0\n",
            "  Downloading https://files.pythonhosted.org/packages/bb/7a/fd8059a3881d3ab37ac8f72f56b73937a14e8bb14a9733e68cc8b17dbe3c/bayesian-optimization-1.2.0.tar.gz\n",
            "Requirement already satisfied: typing-extensions>=3.6.6 in /usr/local/lib/python3.6/dist-packages (from nevergrad->-r requirements.txt (line 5)) (3.7.4.3)\n",
            "Collecting cma>=2.6.0\n",
            "\u001b[?25l  Downloading https://files.pythonhosted.org/packages/36/c0/0a1c41f7cad0a51e07991cf86423d0e6651d035f1fe7dcff48e8858848f2/cma-3.0.3-py2.py3-none-any.whl (230kB)\n",
            "\u001b[K     |████████████████████████████████| 235kB 27.4MB/s \n",
            "\u001b[?25hRequirement already satisfied: certifi>=2017.4.17 in /usr/local/lib/python3.6/dist-packages (from requests->visdom->-r requirements.txt (line 3)) (2020.12.5)\n",
            "Requirement already satisfied: chardet<4,>=3.0.2 in /usr/local/lib/python3.6/dist-packages (from requests->visdom->-r requirements.txt (line 3)) (3.0.4)\n",
            "Requirement already satisfied: idna<3,>=2.5 in /usr/local/lib/python3.6/dist-packages (from requests->visdom->-r requirements.txt (line 3)) (2.10)\n",
            "Requirement already satisfied: urllib3!=1.25.0,!=1.25.1,<1.26,>=1.21.1 in /usr/local/lib/python3.6/dist-packages (from requests->visdom->-r requirements.txt (line 3)) (1.24.3)\n",
            "Collecting jsonpointer>=1.9\n",
            "  Downloading https://files.pythonhosted.org/packages/18/b0/a80d29577c08eea401659254dfaed87f1af45272899e1812d7e01b679bc5/jsonpointer-2.0-py2.py3-none-any.whl\n",
            "Requirement already satisfied: scikit-learn>=0.18.0 in /usr/local/lib/python3.6/dist-packages (from bayesian-optimization>=1.2.0->nevergrad->-r requirements.txt (line 5)) (0.22.2.post1)\n",
            "Requirement already satisfied: joblib>=0.11 in /usr/local/lib/python3.6/dist-packages (from scikit-learn>=0.18.0->bayesian-optimization>=1.2.0->nevergrad->-r requirements.txt (line 5)) (1.0.0)\n",
            "Building wheels for collected packages: visdom, torchfile, bayesian-optimization\n",
            "  Building wheel for visdom (setup.py) ... \u001b[?25l\u001b[?25hdone\n",
            "  Created wheel for visdom: filename=visdom-0.1.8.9-cp36-none-any.whl size=655252 sha256=a05b96d175be3a399ae0e0d436f427ec89e481bc180747ae70509d15808dcb4b\n",
            "  Stored in directory: /root/.cache/pip/wheels/70/19/a7/6d589ed967f4dfefd33bc166d081257bd4ed0cb618dccfd62a\n",
            "  Building wheel for torchfile (setup.py) ... \u001b[?25l\u001b[?25hdone\n",
            "  Created wheel for torchfile: filename=torchfile-0.1.0-cp36-none-any.whl size=5713 sha256=6a920a9a12c8949bf2cb01be299bd85cf4fb49e20312e0d368a4e67502132c66\n",
            "  Stored in directory: /root/.cache/pip/wheels/b1/c3/d6/9a1cc8f3a99a0fc1124cae20153f36af59a6e683daca0a0814\n",
            "  Building wheel for bayesian-optimization (setup.py) ... \u001b[?25l\u001b[?25hdone\n",
            "  Created wheel for bayesian-optimization: filename=bayesian_optimization-1.2.0-cp36-none-any.whl size=11685 sha256=2b474e9c52df24f04c9b50e701d291269c74e3e29cec42bcfed2253b4d8aa4c4\n",
            "  Stored in directory: /root/.cache/pip/wheels/5a/56/ae/e0e3c1fc1954dc3ec712e2df547235ed072b448094d8f94aec\n",
            "Successfully built visdom torchfile bayesian-optimization\n",
            "Installing collected packages: jsonpointer, jsonpatch, torchfile, websocket-client, visdom, bayesian-optimization, cma, nevergrad\n",
            "Successfully installed bayesian-optimization-1.2.0 cma-3.0.3 jsonpatch-1.28 jsonpointer-2.0 nevergrad-0.4.3 torchfile-0.1.0 visdom-0.1.8.9 websocket-client-0.57.0\n"
          ],
          "name": "stdout"
        }
      ]
    },
    {
      "cell_type": "code",
      "metadata": {
        "colab": {
          "base_uri": "https://localhost:8080/"
        },
        "id": "mXkcJ4DDZ2V2",
        "outputId": "b5410125-08fa-432d-9684-ebe862ff30c6"
      },
      "source": [
        "ls"
      ],
      "execution_count": 17,
      "outputs": [
        {
          "output_type": "stream",
          "text": [
            "CODE_OF_CONDUCT.md          hubconf.py                \u001b[0m\u001b[01;34moutput_networks\u001b[0m/\n",
            "config_celeba_cropped.json  illustartionCelebaHQ.jpg  README.md\n",
            "config_celebaHQ.json        illustration.png          requirements.txt\n",
            "CONTRIBUTING.md             \u001b[01;34minput_images\u001b[0m/             save_feature_extractor.py\n",
            "datasets.py                 LICENSE                   train.py\n",
            "eval.py                     \u001b[01;34mmodels\u001b[0m/                   \u001b[01;34mvisualization\u001b[0m/\n"
          ],
          "name": "stdout"
        }
      ]
    },
    {
      "cell_type": "code",
      "metadata": {
        "colab": {
          "base_uri": "https://localhost:8080/"
        },
        "id": "fNaKIH9kX8yV",
        "outputId": "45266ab5-22ec-4c4e-b094-4c70bb076f71"
      },
      "source": [
        "#!python datasets.py celeba_cropped ./input_images -o output"
      ],
      "execution_count": 15,
      "outputs": [
        {
          "output_type": "stream",
          "text": [
            "Cropping dataset...\n",
            " |####################################################################################################| 100.0% \n"
          ],
          "name": "stdout"
        }
      ]
    },
    {
      "cell_type": "code",
      "metadata": {
        "id": "vk9mNJCekn4M"
      },
      "source": [
        ""
      ],
      "execution_count": null,
      "outputs": []
    },
    {
      "cell_type": "code",
      "metadata": {
        "id": "MDUz-CfxYJcb"
      },
      "source": [
        "#!python train.py PGAN -c config_celeba_cropped.json --restart -n celeba_cropped"
      ],
      "execution_count": null,
      "outputs": []
    },
    {
      "cell_type": "code",
      "metadata": {
        "id": "PYU8OZjcYJg-"
      },
      "source": [
        ""
      ],
      "execution_count": null,
      "outputs": []
    },
    {
      "cell_type": "code",
      "metadata": {
        "colab": {
          "base_uri": "https://localhost:8080/"
        },
        "id": "9Uq604mnYJla",
        "outputId": "78cbba69-7606-4279-d947-d4a3b19d1f1d"
      },
      "source": [
        "!python datasets.py celebaHQ ./input_images/ -o output -f"
      ],
      "execution_count": 18,
      "outputs": [
        {
          "output_type": "stream",
          "text": [
            "Resolution 64 x 64\n",
            " |####################################################################################################| 100.0% \n",
            "Resolution 128 x 128\n",
            " |####################################################################################################| 100.0% \n",
            "Resolution 512 x 512\n",
            " |####################################################################################################| 100.0% \n"
          ],
          "name": "stdout"
        }
      ]
    },
    {
      "cell_type": "code",
      "metadata": {
        "id": "sSsRaDExYJpa"
      },
      "source": [
        "!python train.py PGAN -c config_celebaHQ.json -n celebaHQ"
      ],
      "execution_count": null,
      "outputs": []
    },
    {
      "cell_type": "code",
      "metadata": {
        "id": "IjphTvgGYJzz"
      },
      "source": [
        ""
      ],
      "execution_count": null,
      "outputs": []
    },
    {
      "cell_type": "code",
      "metadata": {
        "id": "_hwprWa-YJ4K"
      },
      "source": [
        "!python eval.py visualization/ -n celebaHQ -m PGAN --save_dataset out_images --size_dataset 50"
      ],
      "execution_count": null,
      "outputs": []
    },
    {
      "cell_type": "code",
      "metadata": {
        "id": "iHwaVvPuYJ8c"
      },
      "source": [
        ""
      ],
      "execution_count": null,
      "outputs": []
    },
    {
      "cell_type": "code",
      "metadata": {
        "id": "WX60Rt_NX82G"
      },
      "source": [
        ""
      ],
      "execution_count": null,
      "outputs": []
    },
    {
      "cell_type": "code",
      "metadata": {
        "id": "6q7KRMAuWwyD"
      },
      "source": [
        ""
      ],
      "execution_count": null,
      "outputs": []
    },
    {
      "cell_type": "code",
      "metadata": {
        "id": "4vcWgHQWWw1d"
      },
      "source": [
        ""
      ],
      "execution_count": null,
      "outputs": []
    },
    {
      "cell_type": "code",
      "metadata": {
        "id": "7CY40P5_Ww4n"
      },
      "source": [
        ""
      ],
      "execution_count": null,
      "outputs": []
    },
    {
      "cell_type": "code",
      "metadata": {
        "id": "2kyzmhtOWw8v"
      },
      "source": [
        ""
      ],
      "execution_count": null,
      "outputs": []
    }
  ]
}